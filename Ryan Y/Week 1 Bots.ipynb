{
 "cells": [
  {
   "cell_type": "code",
   "execution_count": 3,
   "metadata": {},
   "outputs": [
    {
     "name": "stdout",
     "output_type": "stream",
     "text": [
      "health:       100\n",
      "health: 56\n",
      "56\n",
      "31\n",
      "2\n",
      "-12\n"
     ]
    }
   ],
   "source": [
    "class bot:\n",
    "    def __init__(self, name, damage, speed, block):\n",
    "        self.health = 100\n",
    "        self.name = name\n",
    "        self.damage = damage\n",
    "        self.movement = speed\n",
    "        self.defense = block\n",
    "    def print_stats(self):\n",
    "        print(\"health:\", self.health)\n",
    "        print(self.health)\n",
    "        print(self.damage)\n",
    "        print(self.movement)\n",
    "        print(self.defense)\n",
    "    def attack(self, target):\n",
    "        target.health -= self.damage\n",
    "    def attack_half(self, target):\n",
    "        target.health -= int(self.damage / 2)\n",
    "    def is_alive(self):\n",
    "        return self.health>0\n",
    "B1=bot(\"Boop Beep\", 31, 2, -12)\n",
    "B2 = bot(\"Wee Woo\", 44, 2, -5,)\n",
    "B2.attack(B1)\n",
    "Mybot = bot(\"Boop Beep\", 31, 2, -12)\n",
    "print(\"health:{:10}\".format(Mybot.health))\n",
    "B1.print_stats()\n",
    "    "
   ]
  },
  {
   "cell_type": "code",
   "execution_count": 4,
   "metadata": {},
   "outputs": [
    {
     "ename": "IndentationError",
     "evalue": "expected an indented block (<ipython-input-4-ede304716022>, line 25)",
     "output_type": "error",
     "traceback": [
      "\u001b[1;36m  File \u001b[1;32m\"<ipython-input-4-ede304716022>\"\u001b[1;36m, line \u001b[1;32m25\u001b[0m\n\u001b[1;33m    print(\"round result\")\u001b[0m\n\u001b[1;37m    ^\u001b[0m\n\u001b[1;31mIndentationError\u001b[0m\u001b[1;31m:\u001b[0m expected an indented block\n"
     ]
    }
   ],
   "source": [
    "import random\n",
    "while B1.is_alive() and B2. is_alive():\n",
    "    #Fight!\n",
    "    if(B1.movement > B2.movement):\n",
    "        B1.attack(B2)\n",
    "        B2.attack(B1)\n",
    "    if(B1.movement < B2.movement):\n",
    "        B2.attack(B1)\n",
    "        B1.attack(B2)\n",
    "    if(B1.movement == B2.movement):\n",
    "        number = random.randint(1,20)\n",
    "        if(number == 1):\n",
    "            B2.attack(B2)\n",
    "            B1.attack(B1)\n",
    "        if(number == 20):\n",
    "            B1.attack(B2)\n",
    "            B2.attack(B1)\n",
    "            B1.attack(B2)\n",
    "            B2.attack(B1)\n",
    "        if(number < 10 and number > 1):\n",
    "            B1.attack(B2)\n",
    "            B2.attack(B1)\n",
    "        if(number > 10 and number < 20):\n",
    "           \n",
    "    print(\"round result\")\n",
    "    B1.print_stats()\n",
    "    B2.print_stats()"
   ]
  },
  {
   "cell_type": "code",
   "execution_count": null,
   "metadata": {},
   "outputs": [],
   "source": [
    "import random\n",
    "class bot:\n",
    "    turn = 0\n",
    "    def __init__(self, name, damage, speed, block):\n",
    "        self.health = 100\n",
    "        self.name = name\n",
    "        self.damage = damage\n",
    "        self.movement = speed\n",
    "        self.defense = block\n",
    "    def print_stats(self):\n",
    "        print(\"health:\", self.health)\n",
    "        print(self.health)\n",
    "        print(self.damage)\n",
    "        print(self.movement)\n",
    "        print(self.defense)\n",
    "    def attack(self, target):\n",
    "        target.health -= self.damage\n",
    "    def attack_half(self, target):\n",
    "        target.health -= int(self.damage / 2)\n",
    "    def is_alive(self):\n",
    "        return self.health>0\n",
    "    def heal(self):\n",
    "        self.health += 8\n",
    "    def block(self, target):\n",
    "        target.health -= 0\n",
    "    def choice(self, target):\n",
    "        if(self.turn % 4 == 3):\n",
    "            self.heal()\n",
    "        choice = random.random()\n",
    "        if(choice < 1/3):\n",
    "            self.heal()\n",
    "            #heals up 8 every 4 turns\n",
    "        elif(choice < 2/3):\n",
    "            self.attack(target)\n",
    "        else:\n",
    "            self.attack(target)\n",
    "            #negate the defense amount damage every 3 turns, but deal half damage\n",
    "\n",
    "B1=bot(\"Boop Beep\", 31, 2, -12)\n",
    "B2 = bot(\"Wee Woo\", 44, 2, -5,)\n",
    "while B1.is_alive() and B2. is_alive():\n",
    "    print(\"round stats\")\n",
    "    B1.choice(B2)\n",
    "    B2.choice(B1)\n",
    "    B1.print_stats()\n",
    "    B2.print_stats()"
   ]
  },
  {
   "cell_type": "code",
   "execution_count": null,
   "metadata": {},
   "outputs": [],
   "source": [
    "import numpy as np\n",
    "a=np.array([1,2,3])\n",
    "b=np.array([2,4,6])\n",
    "a+b\n",
    "a*b\n",
    "a.dot(b)"
   ]
  },
  {
   "cell_type": "code",
   "execution_count": null,
   "metadata": {},
   "outputs": [],
   "source": [
    "import matplotlib.pyplot as plt\n",
    "import random\n",
    "y=[random.randint(1,10)+i for i in range(100)]\n",
    "x = [i for i in range (100)]\n",
    "plt.scatter(x,y)\n",
    "plt.plot(x,y)\n",
    "plt.show()"
   ]
  },
  {
   "cell_type": "code",
   "execution_count": 5,
   "metadata": {},
   "outputs": [
    {
     "data": {
      "image/png": "[encoded data removed]",
      "text/plain": [
       "<Figure size 432x288 with 1 Axes>"
      ]
     },
     "metadata": {
      "needs_background": "light"
     },
     "output_type": "display_data"
    }
   ],
   "source": [
    "import matplotlib.pyplot as plt\n",
    "import random\n",
    "y=[random.random() for i in range(999999)]\n",
    "x = [i for i in range (999999)]\n",
    "plt.scatter(x,y)\n",
    "plt.plot(x,y)\n",
    "plt.show()"
   ]
  },
  {
   "cell_type": "code",
   "execution_count": 6,
   "metadata": {},
   "outputs": [
    {
     "data": {
      "image/png": "[encoded data removed]",
      "text/plain": [
       "<Figure size 432x288 with 1 Axes>"
      ]
     },
     "metadata": {
      "needs_background": "light"
     },
     "output_type": "display_data"
    }
   ],
   "source": [
    "import matplotlib.pyplot as plt\n",
    "import random\n",
    "y=[random.random() for i in range(9)]\n",
    "x = [i for i in range (9)]\n",
    "plt.scatter(x,y)\n",
    "plt.plot(x,y)\n",
    "plt.show()"
   ]
  },
  {
   "cell_type": "code",
   "execution_count": 7,
   "metadata": {},
   "outputs": [
    {
     "ename": "NameError",
     "evalue": "name 'real_random_int' is not defined",
     "output_type": "error",
     "traceback": [
      "\u001b[1;31m---------------------------------------------------------------------------\u001b[0m",
      "\u001b[1;31mNameError\u001b[0m                                 Traceback (most recent call last)",
      "\u001b[1;32m<ipython-input-7-bb4680798a6c>\u001b[0m in \u001b[0;36m<module>\u001b[1;34m\u001b[0m\n\u001b[0;32m      1\u001b[0m \u001b[1;32mimport\u001b[0m \u001b[0mrandom\u001b[0m\u001b[1;33m\u001b[0m\u001b[1;33m\u001b[0m\u001b[0m\n\u001b[1;32m----> 2\u001b[1;33m \u001b[0mrandom\u001b[0m\u001b[1;33m.\u001b[0m\u001b[0mseed\u001b[0m\u001b[1;33m(\u001b[0m\u001b[0mreal_random_int\u001b[0m\u001b[1;33m)\u001b[0m\u001b[1;33m\u001b[0m\u001b[1;33m\u001b[0m\u001b[0m\n\u001b[0m",
      "\u001b[1;31mNameError\u001b[0m: name 'real_random_int' is not defined"
     ]
    }
   ],
   "source": [
    "import random\n",
    "random.seed(real_random_int)"
   ]
  },
  {
   "cell_type": "code",
   "execution_count": 2,
   "metadata": {},
   "outputs": [],
   "source": [
    "import tensorflow as tf"
   ]
  },
  {
   "cell_type": "code",
   "execution_count": null,
   "metadata": {},
   "outputs": [],
   "source": []
  }
 ],
 "metadata": {
  "kernelspec": {
   "display_name": "Python 3",
   "language": "python",
   "name": "python3"
  },
  "language_info": {
   "codemirror_mode": {
    "name": "ipython",
    "version": 3
   },
   "file_extension": ".py",
   "mimetype": "text/x-python",
   "name": "python",
   "nbconvert_exporter": "python",
   "pygments_lexer": "ipython3",
   "version": "3.6.8"
  }
 },
 "nbformat": 4,
 "nbformat_minor": 2
}
